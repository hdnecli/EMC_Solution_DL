{
 "cells": [
  {
   "cell_type": "code",
   "execution_count": null,
   "metadata": {},
   "outputs": [],
   "source": [
    "import pandas as pd\n",
    "import numpy as np\n",
    "import pyarrow as pa\n",
    "import pyarrow.parquet as pq\n",
    "import ast\n",
    "\n",
    "path = 'mem/data.parquet'\n",
    "\n",
    "table = pq.read_table(path)\n",
    "df_parquet = table.to_pandas()\n",
    "\n",
    "columns_array = ['mbMap', 'mbScrewMap' ,'psuMap', 'psuScrewMap', 'ursaMap', 'ursaScrewMap', 'wlanMap', 'wlanScrewMap', 'cable_map', 'cable_trns_map',\n",
    "                  'cable_single_shield_map', 'cable_double_shield_map', 'cable_circle_shield_map', 'emi_tape_map', 'ferrit_map', 'vData',\n",
    "                  'hData', 'freqMarginH', 'freqMarginV', 'freqCriticH', 'freqCriticV', 'freqPotentialH', 'freqPotentialV']\n",
    "\n",
    "columns_float = ['remBiasH', 'remBiasV']\n",
    "columns_int = ['inch', 'ranking']\n",
    "\n",
    "data_dict = {}\n",
    "\n",
    "# str to list in columns_array\n",
    "for column_name in columns_array:\n",
    "    df_parquet[column_name] = df_parquet[column_name].apply(ast.literal_eval)\n",
    "    print(\"column name:\",column_name)\n",
    "\n",
    "# str to float in columns_float\n",
    "for column_name in columns_float:\n",
    "    df_parquet[column_name] = df_parquet[column_name].astype('float32')#'float32'\n",
    "    print(\"column name:\",column_name)\n",
    "\n",
    "# str to int in columns_int\n",
    "for column_name in columns_int:\n",
    "    df_parquet[column_name] = df_parquet[column_name].astype('uint16')#'uint16'\n",
    "    print(\"column name:\",column_name)"
   ]
  },
  {
   "cell_type": "code",
   "execution_count": null,
   "metadata": {},
   "outputs": [],
   "source": [
    "#filter unnecessary labels.\n",
    "columns = ['inch', 'mbCode', 'mbMap', 'pnlCode', 'cell_code',\n",
    "       'panel_vendor', 'mbScrewMap','psuCode', 'psuMap',\n",
    "       'psuScrewMap', 'ursaCode','ursaMap',\n",
    "       'ursaScrewMap', 'wlanCode', 'wlanMap', 'wlanScrewMap',\n",
    "       'cable_map', 'cable_trns_map', 'cable_single_shield_map',\n",
    "       'cable_double_shield_map', 'cable_circle_shield_map',\n",
    "        'emi_tape_map', 'ferrit_map', 'test_name', 'vData', 'hData', 'remBiasH', 'remBiasV', 'freqMarginH',\n",
    "       'freqMarginV', 'freqCriticH', 'freqCriticV', 'freqPotentialH',\n",
    "       'freqPotentialV', 'ranking'] \n",
    "df_parquet_cropped = df_parquet[columns]\n",
    "\n",
    "dict_result = {}\n",
    "\n",
    "for column_name in df_parquet_cropped.columns:\n",
    "    column_shape = np.asarray(df_parquet_cropped[column_name][0]).shape\n",
    "\n",
    "    if column_shape == ():\n",
    "        dict_result[column_name] = df_parquet_cropped[column_name].tolist()\n",
    "        print(\"key:\", column_name, \"shape:\", column_shape)\n",
    "    elif column_shape == (160, 90):\n",
    "        dict_result[column_name] = df_parquet_cropped[column_name].apply(lambda x: [elem for sublist1d in x for elem in sublist1d]).tolist()\n",
    "        print(\"key:\", column_name, \"shape:\", column_shape)\n",
    "    elif column_shape in [(64, 160, 90), (96, 160, 90)]:\n",
    "        dict_result[column_name] = df_parquet_cropped[column_name].apply(lambda x: [elem for sublist2d in x for sublist1d in sublist2d for elem in sublist1d]).tolist()\n",
    "        print(\"key:\", column_name, \"shape:\", column_shape)\n",
    "    elif column_shape == (971,):\n",
    "        dict_result[column_name] = df_parquet_cropped[column_name].tolist()\n",
    "        print(\"key:\", column_name, \"shape:\", column_shape)\n",
    "\n",
    "df_parquet_cropped_last = pd.DataFrame(dict_result)\n",
    "print(\"islem bitti\")\n",
    "df_parquet_cropped_last\n"
   ]
  },
  {
   "cell_type": "code",
   "execution_count": null,
   "metadata": {},
   "outputs": [],
   "source": [
    "map_columns = ['mbMap','mbScrewMap','psuMap','psuScrewMap','ursaMap','ursaScrewMap',\n",
    "                'wlanMap','wlanScrewMap','cable_map','cable_trns_map', 'cable_single_shield_map',\n",
    "                'cable_double_shield_map','cable_circle_shield_map', 'emi_tape_map', 'ferrit_map',\n",
    "                'freqMarginH', 'freqMarginV','freqCriticH', 'freqCriticV','freqPotentialH', 'freqPotentialV']\n",
    "# Mapping şeklinde olan columnların array şeklinde kalması model oluşturmama engel oluyordu ben de bu arrayleri şu formatta böldüm:\n",
    "# Mesela bir arrayde 971 adet element varsa, o arrayin ismi de örek olarak vData olsun, vData_1,vData_2,...,vData_970,vData_971 şeklinde 971 tane column yarattım. Siz farklı bir düşünürseniz burayla oynayabilirsiniz.\n",
    "\n",
    "float_columns = ['vData','hData']\n",
    "df_last = df_parquet_cropped_last\n",
    "for col in map_columns:\n",
    "  df_last = df_last.join(pd.DataFrame(df_last[col].values.tolist()).add_prefix(col+\"_\").astype('int8'))\n",
    "  df_last = df_last.drop(columns=col)\n",
    "for col in float_columns:\n",
    "  df_last = df_last.join(pd.DataFrame(df_last[col].values.tolist()).add_prefix(col+\"_\"))\n",
    "  df_last = df_last.drop(columns=col)\n",
    "df_last"
   ]
  },
  {
   "cell_type": "code",
   "execution_count": null,
   "metadata": {},
   "outputs": [],
   "source": [
    "cat_columns = ['inch', 'mbCode', 'pnlCode', 'cell_code', 'panel_vendor', 'psuCode', 'ursaCode', 'wlanCode', 'test_name']\n",
    "\n",
    "for cc in cat_columns:\n",
    "    df_last[cc] = pd.Categorical(df_last[cc])\n",
    "    df_last[cc] = df_last[cc].cat.codes\n",
    "\n",
    "df_last[cat_columns]"
   ]
  },
  {
   "cell_type": "code",
   "execution_count": null,
   "metadata": {},
   "outputs": [],
   "source": [
    "df_last"
   ]
  },
  {
   "cell_type": "code",
   "execution_count": null,
   "metadata": {},
   "outputs": [],
   "source": [
    "df_last.to_pickle('data_150.pkl') # 150 veri adedi"
   ]
  }
 ],
 "metadata": {
  "kernelspec": {
   "display_name": "Python 3",
   "language": "python",
   "name": "python3"
  },
  "language_info": {
   "codemirror_mode": {
    "name": "ipython",
    "version": 3
   },
   "file_extension": ".py",
   "mimetype": "text/x-python",
   "name": "python",
   "nbconvert_exporter": "python",
   "pygments_lexer": "ipython3",
   "version": "3.7.9"
  },
  "orig_nbformat": 4
 },
 "nbformat": 4,
 "nbformat_minor": 2
}
